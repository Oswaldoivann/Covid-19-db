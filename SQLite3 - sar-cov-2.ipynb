{
 "cells": [
  {
   "cell_type": "code",
   "execution_count": 1,
   "metadata": {},
   "outputs": [],
   "source": [
    "#Importamos nuestra libreria  \n",
    "import sqlite3"
   ]
  },
  {
   "cell_type": "code",
   "execution_count": null,
   "metadata": {},
   "outputs": [],
   "source": [
    "#conexion = sqlite3.connect()"
   ]
  },
  {
   "cell_type": "code",
   "execution_count": null,
   "metadata": {},
   "outputs": [],
   "source": [
    "conexion = sqlite3.connect('sar-cov-2.db')"
   ]
  },
  {
   "cell_type": "code",
   "execution_count": null,
   "metadata": {},
   "outputs": [],
   "source": [
    "#cursor = conexion.cursor()"
   ]
  },
  {
   "cell_type": "code",
   "execution_count": 4,
   "metadata": {},
   "outputs": [],
   "source": [
    "conexion = sqlite3.connect('sars-cov-2.db')\n",
    "\n",
    "cursor = conexion.cursor()\n",
    "\n",
    "#Creamos la primer tabla de nuestro catalogo SI / NO\n",
    "cursor.execute(\"CREATE TABLE TOMA_MUESTRA_ANTIGENO (TOMA_MUESTRA_ANTIGENO interger, PAC_TOMA_MUESTRA_ANTIGENO text)\")\n",
    "\n",
    "#Guarda los cambios de nuestra conexion\n",
    "conexion.commit()\n",
    "\n",
    "#Cerramos nuestra conexion\n",
    "conexion.close()"
   ]
  },
  {
   "cell_type": "code",
   "execution_count": 5,
   "metadata": {},
   "outputs": [],
   "source": [
    "conexion = sqlite3.connect('sars-cov-2.db')\n",
    "cursor = conexion.cursor()\n",
    "\n",
    "#En una lista definimos los datos de nuestra tabla\n",
    "catalogo = [(1, 'SI'),\n",
    "           (2, 'NO'),\n",
    "           (97,'NO APLICA'),\n",
    "           (98,'SE IGNORA'),\n",
    "           (99, 'NO ESPECIFICADO')]\n",
    "\n",
    "\n",
    "cursor.executemany(\"INSERT INTO TOMA_MUESTRA_ANTIGENO VALUES (?,?)\", catalogo)\n",
    "\n",
    "#Guarda los cambios de nuestra conexion\n",
    "conexion.commit()\n",
    "\n",
    "conexion.close()"
   ]
  }
 ],
 "metadata": {
  "kernelspec": {
   "display_name": "Python 3",
   "language": "python",
   "name": "python3"
  },
  "language_info": {
   "codemirror_mode": {
    "name": "ipython",
    "version": 3
   },
   "file_extension": ".py",
   "mimetype": "text/x-python",
   "name": "python",
   "nbconvert_exporter": "python",
   "pygments_lexer": "ipython3",
   "version": "3.8.5"
  }
 },
 "nbformat": 4,
 "nbformat_minor": 4
}
